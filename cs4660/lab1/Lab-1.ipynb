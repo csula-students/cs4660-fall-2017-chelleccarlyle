{
 "cells": [
  {
   "cell_type": "markdown",
   "metadata": {},
   "source": [
    "# CS 4660 - Lab 1\n",
    "### Chelle Cruz"
   ]
  },
  {
   "cell_type": "markdown",
   "metadata": {},
   "source": [
    "### 1. Import the numpy package with the alias np"
   ]
  },
  {
   "cell_type": "code",
   "execution_count": 1,
   "metadata": {
    "collapsed": true
   },
   "outputs": [],
   "source": [
    "import numpy as np"
   ]
  },
  {
   "cell_type": "markdown",
   "metadata": {},
   "source": [
    "### 2. Create a vector of zeros of size 10 but the fifth value which is 1 "
   ]
  },
  {
   "cell_type": "code",
   "execution_count": 2,
   "metadata": {},
   "outputs": [
    {
     "name": "stdout",
     "output_type": "stream",
     "text": [
      "[0 0 0 0 1 0 0 0 0 0]\n"
     ]
    }
   ],
   "source": [
    "zeroes = np.zeros(10, dtype=int)\n",
    "zeroes[4] = 1\n",
    "print(zeroes)\n"
   ]
  },
  {
   "cell_type": "markdown",
   "metadata": {},
   "source": [
    "### 3. Create a 3 X 3 array of any values. Add a column of ones to the end"
   ]
  },
  {
   "cell_type": "code",
   "execution_count": 3,
   "metadata": {},
   "outputs": [
    {
     "name": "stdout",
     "output_type": "stream",
     "text": [
      "[[10 11  1]\n",
      " [13 14  1]\n",
      " [16 17  1]]\n"
     ]
    }
   ],
   "source": [
    "a = np.arange(10, 19).reshape((3,3))\n",
    "a[:, -1:] = 1\n",
    "print(a)"
   ]
  },
  {
   "cell_type": "markdown",
   "metadata": {},
   "source": [
    "### 4. Create a vector with values ranging from 10 to 49 "
   ]
  },
  {
   "cell_type": "code",
   "execution_count": 4,
   "metadata": {},
   "outputs": [
    {
     "name": "stdout",
     "output_type": "stream",
     "text": [
      "[10 11 12 13 14 15 16 17 18 19 20 21 22 23 24 25 26 27 28 29 30 31 32 33 34\n",
      " 35 36 37 38 39 40 41 42 43 44 45 46 47 48 49]\n"
     ]
    }
   ],
   "source": [
    "b = np.arange(10, 50)\n",
    "print(b)"
   ]
  },
  {
   "cell_type": "markdown",
   "metadata": {
    "collapsed": true
   },
   "source": [
    "### 5. Reverse the above vector (first element becomes last)"
   ]
  },
  {
   "cell_type": "code",
   "execution_count": 5,
   "metadata": {},
   "outputs": [
    {
     "name": "stdout",
     "output_type": "stream",
     "text": [
      "[49 48 47 46 45 44 43 42 41 40 39 38 37 36 35 34 33 32 31 30 29 28 27 26 25\n",
      " 24 23 22 21 20 19 18 17 16 15 14 13 12 11 10]\n"
     ]
    }
   ],
   "source": [
    "b = b[::-1]\n",
    "print(b)"
   ]
  },
  {
   "cell_type": "markdown",
   "metadata": {},
   "source": [
    "### 6. Create a 4x4 matrix with values ranging from 0 to 15 "
   ]
  },
  {
   "cell_type": "code",
   "execution_count": 6,
   "metadata": {},
   "outputs": [
    {
     "name": "stdout",
     "output_type": "stream",
     "text": [
      "[[ 0  1  2  3]\n",
      " [ 4  5  6  7]\n",
      " [ 8  9 10 11]\n",
      " [12 13 14 15]]\n"
     ]
    }
   ],
   "source": [
    "c = np.arange(16).reshape((4,4))\n",
    "print(c)"
   ]
  },
  {
   "cell_type": "markdown",
   "metadata": {},
   "source": [
    "### 7. Create a 3x3x3 array with random values "
   ]
  },
  {
   "cell_type": "code",
   "execution_count": 7,
   "metadata": {},
   "outputs": [
    {
     "name": "stdout",
     "output_type": "stream",
     "text": [
      "[[[ 1 17  4]\n",
      "  [ 9 27  8]\n",
      "  [ 7 43 12]]\n",
      "\n",
      " [[45 21 24]\n",
      "  [30 18 32]\n",
      "  [32 16 23]]\n",
      "\n",
      " [[ 9 31 18]\n",
      "  [38 22 40]\n",
      "  [ 0  7 16]]]\n"
     ]
    }
   ],
   "source": [
    "d = np.floor(50 * np.random.random((3,3,3))).astype(int)\n",
    "print(d)"
   ]
  },
  {
   "cell_type": "markdown",
   "metadata": {},
   "source": [
    "### 8. Create a 10x10 array with random values and find the minimum and maximum values "
   ]
  },
  {
   "cell_type": "code",
   "execution_count": 8,
   "metadata": {},
   "outputs": [
    {
     "name": "stdout",
     "output_type": "stream",
     "text": [
      "[[ 4  8 35  3 45  1 37 35 18 17]\n",
      " [39 43  9 46 41 18 28 46  3 12]\n",
      " [45 21 15  6 20 45 45 43  2 16]\n",
      " [24 27 23 46 13  8 41 35  8  7]\n",
      " [ 6  4 28 48 15 29 44 48 37 41]\n",
      " [30 43 10 44 41 44  1 25 13 27]\n",
      " [17 42 22 46  5 46 22 45 19  7]\n",
      " [26  9  1 18 27 31 42 25 29 24]\n",
      " [41  0  3 43 16 44 37 19 17 44]\n",
      " [10 49 47 34 41  7  7 17 13 47]]\n",
      "Min: 0\n",
      "Max: 49\n"
     ]
    }
   ],
   "source": [
    "random_array = np.floor(50 * np.random.random((10,10))).astype(int)\n",
    "print(random_array)\n",
    "print(\"Min:\", random_array.min())\n",
    "print(\"Max:\", random_array.max())"
   ]
  },
  {
   "cell_type": "markdown",
   "metadata": {},
   "source": [
    "### 9. Create a random vector of size 30 and find the mean value "
   ]
  },
  {
   "cell_type": "code",
   "execution_count": 9,
   "metadata": {},
   "outputs": [
    {
     "name": "stdout",
     "output_type": "stream",
     "text": [
      "[30 28  5 31 44  2  3 16 45  4 47  9  1 35  5 46 30 35 41  3 27 29 41 25  1\n",
      " 45 36 21 28 43]\n",
      "Mean: 25.2\n"
     ]
    }
   ],
   "source": [
    "e = np.floor(50 * np.random.random((30,))).astype(int)\n",
    "print(e)\n",
    "print(\"Mean:\", np.mean(e))"
   ]
  },
  {
   "cell_type": "markdown",
   "metadata": {},
   "source": [
    "### 10. What does NaN mean? Submit in a comment\n",
    "\n",
    "NaN = not a number"
   ]
  },
  {
   "cell_type": "markdown",
   "metadata": {},
   "source": [
    "### 11. Write a function that takes 1D array and negates all elements which are between 3 and 8, in place. Demo it with an array of your choosing"
   ]
  },
  {
   "cell_type": "code",
   "execution_count": 10,
   "metadata": {},
   "outputs": [
    {
     "name": "stdout",
     "output_type": "stream",
     "text": [
      "[30 28 -5 31 44  2 -3 16 45 -4 47  9  1 35 -5 46 30 35 41 -3 27 29 41 25  1\n",
      " 45 36 21 28 43]\n"
     ]
    }
   ],
   "source": [
    "# Negate elements between 3 and 8 on array\n",
    "def negate(array):\n",
    "    array[(3 <= array) & (array <= 8)] *= -1\n",
    "\n",
    "negate(e)\n",
    "print(e)\n"
   ]
  },
  {
   "cell_type": "code",
   "execution_count": null,
   "metadata": {
    "collapsed": true
   },
   "outputs": [],
   "source": []
  }
 ],
 "metadata": {
  "kernelspec": {
   "display_name": "Python 3",
   "language": "python",
   "name": "python3"
  },
  "language_info": {
   "codemirror_mode": {
    "name": "ipython",
    "version": 3
   },
   "file_extension": ".py",
   "mimetype": "text/x-python",
   "name": "python",
   "nbconvert_exporter": "python",
   "pygments_lexer": "ipython3",
   "version": "3.6.1"
  }
 },
 "nbformat": 4,
 "nbformat_minor": 2
}
